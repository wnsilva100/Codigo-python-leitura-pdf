{
  "nbformat": 4,
  "nbformat_minor": 0,
  "metadata": {
    "colab": {
      "provenance": []
    },
    "kernelspec": {
      "name": "python3",
      "display_name": "Python 3"
    },
    "language_info": {
      "name": "python"
    }
  },
  "cells": [
    {
      "cell_type": "code",
      "execution_count": null,
      "metadata": {
        "id": "UqvR8oNWV0Bx"
      },
      "outputs": [],
      "source": [
        "import pdfplumber\n",
        "import pandas as pd\n",
        "import re\n",
        "\n",
        "def extrair_dados_pdf(pdf_path):\n",
        "    \"\"\"\n",
        "    Extrai dados de um arquivo PDF com várias páginas seguindo um padrão específico.\n",
        "\n",
        "    Args:\n",
        "        pdf_path: O caminho para o arquivo PDF.\n",
        "\n",
        "    Returns:\n",
        "        Um DataFrame pandas com os dados extraídos.\n",
        "    \"\"\"\n",
        "\n",
        "    with pdfplumber.open(pdf_path) as pdf:\n",
        "        all_text = \"\"\n",
        "        for page in pdf.pages:\n",
        "            all_text += page.extract_text() + \"\\n\"\n",
        "\n",
        "    # Expressão regular para extrair os dados\n",
        "    padrao = r\"(\\d+), ([A-Za-z\\s]+), ([\\d\\.]+), ([\\d\\.]+), ([\\d\\.]+), ([\\d\\.]+), ([\\d\\.]+), ([\\d\\.]+), ([\\d\\.]+)\"\n",
        "    linhas = re.findall(padrao, all_text)\n",
        "\n",
        "    # Criar um DataFrame pandas\n",
        "    df = pd.DataFrame(linhas, columns=[\"ID\", \"Nome\", \"Nota1\", \"Nota2\", \"Nota3\", \"Nota4\", \"Nota5\", \"Nota6\", \"Total\"])\n",
        "\n",
        "    # Converter colunas numéricas para o tipo float\n",
        "    colunas_numericas = [\"Nota1\", \"Nota2\", \"Nota3\", \"Nota4\", \"Nota5\", \"Nota6\", \"Total\"]\n",
        "    df[colunas_numericas] = df[colunas_numericas].apply(pd.to_numeric, errors='coerce')\n",
        "\n",
        "    return df\n",
        "\n",
        "# Substitua 'seu_arquivo.pdf' pelo caminho real do seu arquivo\n",
        "pdf_path = '/content/notas_listagem_discursivas.pdf'\n",
        "df_dados = extrair_dados_pdf(pdf_path)\n",
        "\n",
        "# Exibir o DataFrame\n",
        "print(df_dados)\n",
        "\n",
        "# Salvar o DataFrame em um arquivo Excel (opcional)\n",
        "df_dados.to_excel(\"dados_extraidos.xlsx\", index=False)"
      ]
    }
  ]
}